{
 "cells": [
  {
   "cell_type": "markdown",
   "metadata": {},
   "source": [
    "### Автор: Влада Керножицкая"
   ]
  },
  {
   "cell_type": "code",
   "execution_count": 40,
   "metadata": {},
   "outputs": [],
   "source": [
    "import pandas"
   ]
  },
  {
   "cell_type": "markdown",
   "metadata": {},
   "source": [
    "### dataset"
   ]
  },
  {
   "cell_type": "code",
   "execution_count": 41,
   "metadata": {},
   "outputs": [
    {
     "data": {
      "text/html": [
       "<div>\n",
       "<style scoped>\n",
       "    .dataframe tbody tr th:only-of-type {\n",
       "        vertical-align: middle;\n",
       "    }\n",
       "\n",
       "    .dataframe tbody tr th {\n",
       "        vertical-align: top;\n",
       "    }\n",
       "\n",
       "    .dataframe thead th {\n",
       "        text-align: right;\n",
       "    }\n",
       "</style>\n",
       "<table border=\"1\" class=\"dataframe\">\n",
       "  <thead>\n",
       "    <tr style=\"text-align: right;\">\n",
       "      <th></th>\n",
       "      <th>0</th>\n",
       "      <th>1</th>\n",
       "    </tr>\n",
       "  </thead>\n",
       "  <tbody>\n",
       "    <tr>\n",
       "      <th>0</th>\n",
       "      <td>МАТЕМАТИКА</td>\n",
       "      <td>Алгоритм размещения элементов СБИС.</td>\n",
       "    </tr>\n",
       "    <tr>\n",
       "      <th>1</th>\n",
       "      <td>БИОЛОГИЯ</td>\n",
       "      <td>Восстановительное природопользование основа ус...</td>\n",
       "    </tr>\n",
       "    <tr>\n",
       "      <th>2</th>\n",
       "      <td>БИОЛОГИЯ</td>\n",
       "      <td>Культура зародышей Paeonia anomala L.</td>\n",
       "    </tr>\n",
       "    <tr>\n",
       "      <th>3</th>\n",
       "      <td>ГЕОЛОГИЯ</td>\n",
       "      <td>Экологический мониторинг загазованных донных о...</td>\n",
       "    </tr>\n",
       "    <tr>\n",
       "      <th>4</th>\n",
       "      <td>БИОЛОГИЯ</td>\n",
       "      <td>Ультразвуковые методы определения газонасыщени...</td>\n",
       "    </tr>\n",
       "  </tbody>\n",
       "</table>\n",
       "</div>"
      ],
      "text/plain": [
       "            0                                                  1\n",
       "0  МАТЕМАТИКА               Алгоритм размещения элементов СБИС. \n",
       "1    БИОЛОГИЯ  Восстановительное природопользование основа ус...\n",
       "2    БИОЛОГИЯ              Культура зародышей Paeonia anomala L.\n",
       "3    ГЕОЛОГИЯ  Экологический мониторинг загазованных донных о...\n",
       "4    БИОЛОГИЯ  Ультразвуковые методы определения газонасыщени..."
      ]
     },
     "execution_count": 41,
     "metadata": {},
     "output_type": "execute_result"
    }
   ],
   "source": [
    "dataset = pandas.read_csv('ru_subject_domain_classification.corpus', \n",
    "                          sep='\\t', header=None)\n",
    "dataset.head(5)"
   ]
  },
  {
   "cell_type": "markdown",
   "metadata": {},
   "source": [
    "### Вывести на экран первые 5 записей"
   ]
  },
  {
   "cell_type": "code",
   "execution_count": 42,
   "metadata": {},
   "outputs": [
    {
     "data": {
      "text/html": [
       "<div>\n",
       "<style scoped>\n",
       "    .dataframe tbody tr th:only-of-type {\n",
       "        vertical-align: middle;\n",
       "    }\n",
       "\n",
       "    .dataframe tbody tr th {\n",
       "        vertical-align: top;\n",
       "    }\n",
       "\n",
       "    .dataframe thead th {\n",
       "        text-align: right;\n",
       "    }\n",
       "</style>\n",
       "<table border=\"1\" class=\"dataframe\">\n",
       "  <thead>\n",
       "    <tr style=\"text-align: right;\">\n",
       "      <th></th>\n",
       "      <th>0</th>\n",
       "      <th>1</th>\n",
       "    </tr>\n",
       "  </thead>\n",
       "  <tbody>\n",
       "    <tr>\n",
       "      <th>0</th>\n",
       "      <td>МАТЕМАТИКА</td>\n",
       "      <td>Алгоритм размещения элементов СБИС.</td>\n",
       "    </tr>\n",
       "    <tr>\n",
       "      <th>1</th>\n",
       "      <td>БИОЛОГИЯ</td>\n",
       "      <td>Восстановительное природопользование основа ус...</td>\n",
       "    </tr>\n",
       "    <tr>\n",
       "      <th>2</th>\n",
       "      <td>БИОЛОГИЯ</td>\n",
       "      <td>Культура зародышей Paeonia anomala L.</td>\n",
       "    </tr>\n",
       "    <tr>\n",
       "      <th>3</th>\n",
       "      <td>ГЕОЛОГИЯ</td>\n",
       "      <td>Экологический мониторинг загазованных донных о...</td>\n",
       "    </tr>\n",
       "    <tr>\n",
       "      <th>4</th>\n",
       "      <td>БИОЛОГИЯ</td>\n",
       "      <td>Ультразвуковые методы определения газонасыщени...</td>\n",
       "    </tr>\n",
       "  </tbody>\n",
       "</table>\n",
       "</div>"
      ],
      "text/plain": [
       "            0                                                  1\n",
       "0  МАТЕМАТИКА               Алгоритм размещения элементов СБИС. \n",
       "1    БИОЛОГИЯ  Восстановительное природопользование основа ус...\n",
       "2    БИОЛОГИЯ              Культура зародышей Paeonia anomala L.\n",
       "3    ГЕОЛОГИЯ  Экологический мониторинг загазованных донных о...\n",
       "4    БИОЛОГИЯ  Ультразвуковые методы определения газонасыщени..."
      ]
     },
     "execution_count": 42,
     "metadata": {},
     "output_type": "execute_result"
    }
   ],
   "source": [
    "dataset.head(5)"
   ]
  },
  {
   "cell_type": "markdown",
   "metadata": {},
   "source": [
    "### Переименовать столбцы 0 : 'label', 1 : 'x' соответственно"
   ]
  },
  {
   "cell_type": "code",
   "execution_count": 43,
   "metadata": {},
   "outputs": [],
   "source": [
    "dataset.rename({0:'label', 1:'x'}, axis=1, inplace=True)"
   ]
  },
  {
   "cell_type": "markdown",
   "metadata": {},
   "source": [
    "### Отобразить распределение лэйблов с помощью метода value_counts:"
   ]
  },
  {
   "cell_type": "code",
   "execution_count": 44,
   "metadata": {},
   "outputs": [
    {
     "name": "stdout",
     "output_type": "stream",
     "text": [
      "БИОЛОГИЯ      1031\n",
      "ГЕОЛОГИЯ       977\n",
      "МАТЕМАТИКА     670\n",
      "Name: label, dtype: int64\n"
     ]
    }
   ],
   "source": [
    "print(dataset.label.value_counts())"
   ]
  },
  {
   "cell_type": "markdown",
   "metadata": {},
   "source": [
    "### Визуализируем"
   ]
  },
  {
   "cell_type": "code",
   "execution_count": 45,
   "metadata": {},
   "outputs": [
    {
     "name": "stdout",
     "output_type": "stream",
     "text": [
      "AxesSubplot(0.125,0.125;0.775x0.755)\n"
     ]
    },
    {
     "data": {
      "image/png": "[encoded data removed]",
      "text/plain": [
       "<Figure size 432x288 with 1 Axes>"
      ]
     },
     "metadata": {
      "needs_background": "light"
     },
     "output_type": "display_data"
    }
   ],
   "source": [
    "print(dataset.label.value_counts().plot.bar());"
   ]
  },
  {
   "cell_type": "markdown",
   "metadata": {},
   "source": [
    "### Еще раз вывели на экран первые 5 записей"
   ]
  },
  {
   "cell_type": "code",
   "execution_count": 46,
   "metadata": {},
   "outputs": [
    {
     "data": {
      "text/html": [
       "<div>\n",
       "<style scoped>\n",
       "    .dataframe tbody tr th:only-of-type {\n",
       "        vertical-align: middle;\n",
       "    }\n",
       "\n",
       "    .dataframe tbody tr th {\n",
       "        vertical-align: top;\n",
       "    }\n",
       "\n",
       "    .dataframe thead th {\n",
       "        text-align: right;\n",
       "    }\n",
       "</style>\n",
       "<table border=\"1\" class=\"dataframe\">\n",
       "  <thead>\n",
       "    <tr style=\"text-align: right;\">\n",
       "      <th></th>\n",
       "      <th>label</th>\n",
       "      <th>x</th>\n",
       "    </tr>\n",
       "  </thead>\n",
       "  <tbody>\n",
       "    <tr>\n",
       "      <th>0</th>\n",
       "      <td>МАТЕМАТИКА</td>\n",
       "      <td>Алгоритм размещения элементов СБИС.</td>\n",
       "    </tr>\n",
       "    <tr>\n",
       "      <th>1</th>\n",
       "      <td>БИОЛОГИЯ</td>\n",
       "      <td>Восстановительное природопользование основа ус...</td>\n",
       "    </tr>\n",
       "    <tr>\n",
       "      <th>2</th>\n",
       "      <td>БИОЛОГИЯ</td>\n",
       "      <td>Культура зародышей Paeonia anomala L.</td>\n",
       "    </tr>\n",
       "    <tr>\n",
       "      <th>3</th>\n",
       "      <td>ГЕОЛОГИЯ</td>\n",
       "      <td>Экологический мониторинг загазованных донных о...</td>\n",
       "    </tr>\n",
       "    <tr>\n",
       "      <th>4</th>\n",
       "      <td>БИОЛОГИЯ</td>\n",
       "      <td>Ультразвуковые методы определения газонасыщени...</td>\n",
       "    </tr>\n",
       "  </tbody>\n",
       "</table>\n",
       "</div>"
      ],
      "text/plain": [
       "        label                                                  x\n",
       "0  МАТЕМАТИКА               Алгоритм размещения элементов СБИС. \n",
       "1    БИОЛОГИЯ  Восстановительное природопользование основа ус...\n",
       "2    БИОЛОГИЯ              Культура зародышей Paeonia anomala L.\n",
       "3    ГЕОЛОГИЯ  Экологический мониторинг загазованных донных о...\n",
       "4    БИОЛОГИЯ  Ультразвуковые методы определения газонасыщени..."
      ]
     },
     "execution_count": 46,
     "metadata": {},
     "output_type": "execute_result"
    }
   ],
   "source": [
    "dataset.head(5)"
   ]
  },
  {
   "cell_type": "markdown",
   "metadata": {},
   "source": [
    "### Создали функцию для предобработки данных"
   ]
  },
  {
   "cell_type": "code",
   "execution_count": 47,
   "metadata": {},
   "outputs": [],
   "source": [
    "from nltk.corpus import stopwords\n",
    "from nltk import SnowballStemmer\n",
    "import re\n",
    "stemmer = SnowballStemmer(\"russian\")\n",
    "\n",
    "def preprocess_twit(sent):\n",
    "    #remove URLS\n",
    "    sent = re.sub('((www\\.[^\\s]+)|(https?://[^\\s]+))','', sent)\n",
    "    sent = re.sub('@[^\\s]+','', sent) #remove Users\n",
    "    #smiles processing\n",
    "    sent = re.sub('[:;^8=]{1}-?[)PD8o]+', 'positive_smile', sent)\n",
    "    sent = re.sub('[:;^8=]{1}-?[(/|]+', 'negative_smile', sent)\n",
    "    sent = sent.strip() # удаление пробелов по бокам\n",
    "    sent = sent.lower() # lower-case\n",
    "    sent = re.sub('[0-9]+', '', sent) # удаление цифр\n",
    "     # удаление одноcимвольных токенов\n",
    "    sent = re.sub(r'\\b\\w\\b', '', sent)\n",
    "    #удаление пунктуации\n",
    "    sent = re.sub('[^A-Za-zА-Яа-я_\\s]+', '', sent)\n",
    "    # удаление стоп-слов\n",
    "    sent = [x for x in sent.split() \n",
    "            if x not in stopwords.words('russian')]\n",
    "    sent = [stemmer.stem(x) for x in sent] # cтемминг\n",
    "    sent = ' '.join(sent) # cоединяем элементы списка\n",
    "    return sent"
   ]
  },
  {
   "cell_type": "markdown",
   "metadata": {},
   "source": [
    "### Вывести на экран результат применения функции к предложению sent='Восстановительное природопользование основа устойчивого развития.'"
   ]
  },
  {
   "cell_type": "code",
   "execution_count": 48,
   "metadata": {},
   "outputs": [
    {
     "name": "stdout",
     "output_type": "stream",
     "text": [
      "восстановительн природопользован основ устойчив развит\n"
     ]
    }
   ],
   "source": [
    "sent = 'Восстановительное природопользование основа устойчивого развития.'\n",
    "print(preprocess_twit(sent))"
   ]
  },
  {
   "cell_type": "markdown",
   "metadata": {},
   "source": [
    "### Применить функцию preprocess_data с помощью метода apply к столбцу X"
   ]
  },
  {
   "cell_type": "code",
   "execution_count": 49,
   "metadata": {},
   "outputs": [],
   "source": [
    "dataset['x'] = dataset['x'].apply(preprocess_twit)"
   ]
  },
  {
   "cell_type": "markdown",
   "metadata": {},
   "source": [
    "### Повторить вывод пяти первых строк"
   ]
  },
  {
   "cell_type": "code",
   "execution_count": 50,
   "metadata": {},
   "outputs": [
    {
     "data": {
      "text/html": [
       "<div>\n",
       "<style scoped>\n",
       "    .dataframe tbody tr th:only-of-type {\n",
       "        vertical-align: middle;\n",
       "    }\n",
       "\n",
       "    .dataframe tbody tr th {\n",
       "        vertical-align: top;\n",
       "    }\n",
       "\n",
       "    .dataframe thead th {\n",
       "        text-align: right;\n",
       "    }\n",
       "</style>\n",
       "<table border=\"1\" class=\"dataframe\">\n",
       "  <thead>\n",
       "    <tr style=\"text-align: right;\">\n",
       "      <th></th>\n",
       "      <th>label</th>\n",
       "      <th>x</th>\n",
       "    </tr>\n",
       "  </thead>\n",
       "  <tbody>\n",
       "    <tr>\n",
       "      <th>0</th>\n",
       "      <td>МАТЕМАТИКА</td>\n",
       "      <td>алгоритм размещен элемент сбис</td>\n",
       "    </tr>\n",
       "    <tr>\n",
       "      <th>1</th>\n",
       "      <td>БИОЛОГИЯ</td>\n",
       "      <td>восстановительн природопользован основ устойчи...</td>\n",
       "    </tr>\n",
       "    <tr>\n",
       "      <th>2</th>\n",
       "      <td>БИОЛОГИЯ</td>\n",
       "      <td>культур зародыш paeonia anomala</td>\n",
       "    </tr>\n",
       "    <tr>\n",
       "      <th>3</th>\n",
       "      <td>ГЕОЛОГИЯ</td>\n",
       "      <td>экологическ мониторинг загазова дон осадк</td>\n",
       "    </tr>\n",
       "    <tr>\n",
       "      <th>4</th>\n",
       "      <td>БИОЛОГИЯ</td>\n",
       "      <td>ультразвуков метод определен газонасыщен биоло...</td>\n",
       "    </tr>\n",
       "  </tbody>\n",
       "</table>\n",
       "</div>"
      ],
      "text/plain": [
       "        label                                                  x\n",
       "0  МАТЕМАТИКА                     алгоритм размещен элемент сбис\n",
       "1    БИОЛОГИЯ  восстановительн природопользован основ устойчи...\n",
       "2    БИОЛОГИЯ                    культур зародыш paeonia anomala\n",
       "3    ГЕОЛОГИЯ          экологическ мониторинг загазова дон осадк\n",
       "4    БИОЛОГИЯ  ультразвуков метод определен газонасыщен биоло..."
      ]
     },
     "execution_count": 50,
     "metadata": {},
     "output_type": "execute_result"
    }
   ],
   "source": [
    "dataset.head(5)"
   ]
  },
  {
   "cell_type": "markdown",
   "metadata": {},
   "source": [
    "### Отделить лейблы от фич и разбить наш dataset на train и test"
   ]
  },
  {
   "cell_type": "code",
   "execution_count": 51,
   "metadata": {},
   "outputs": [],
   "source": [
    "from sklearn.model_selection import train_test_split\n",
    "# отделяем лейблы от фич\n",
    "X = dataset.x\n",
    "y = dataset.label\n",
    "# разбиваем наш датасет на train и test\n",
    "X_train, X_test, y_train, y_test = train_test_split(X,y,test_size=.3)"
   ]
  },
  {
   "cell_type": "markdown",
   "metadata": {},
   "source": [
    "### Векторизацию выполнить тремя типами векторов"
   ]
  },
  {
   "cell_type": "code",
   "execution_count": 52,
   "metadata": {},
   "outputs": [],
   "source": [
    "from sklearn.feature_extraction.text import CountVectorizer\n",
    "\n",
    "#One hot encoding (Binary)\n",
    "vectorizer_binary = CountVectorizer(binary=True)\n",
    "\n",
    "vectorizer_binary.fit(X)\n",
    "X_binary_train = vectorizer_binary.transform(X_train)\n",
    "X_binary_test = vectorizer_binary.transform(X_test) \n",
    "\n",
    "#Frequency Encoding\n",
    "vectorizer_freq = CountVectorizer() \n",
    "\n",
    "vectorizer_freq.fit(X) \n",
    "X_freq_train = vectorizer_freq.transform(X_train)\n",
    "X_freq_test = vectorizer_freq.transform(X_test)\n",
    "\n",
    "#Term Frequency - Document Frequency\n",
    "from sklearn.feature_extraction.text import TfidfVectorizer\n",
    "vectorizer_tfidf = TfidfVectorizer() \n",
    "\n",
    "vectorizer_tfidf.fit(X) \n",
    "X_tfidf_train = vectorizer_tfidf.transform(X_train) \n",
    "X_tfidf_test = vectorizer_tfidf.transform(X_test) "
   ]
  },
  {
   "cell_type": "markdown",
   "metadata": {},
   "source": [
    "### Вывести на экран, какой размерности наши вектора, допустим, бинарный :"
   ]
  },
  {
   "cell_type": "code",
   "execution_count": 53,
   "metadata": {},
   "outputs": [
    {
     "name": "stdout",
     "output_type": "stream",
     "text": [
      "Матрица train выборки: (1874, 12712)\n"
     ]
    }
   ],
   "source": [
    "print(\"Матрица train выборки:\", X_binary_train.get_shape())"
   ]
  },
  {
   "cell_type": "markdown",
   "metadata": {},
   "source": [
    "### Используя метод LogisticRegression, обучить сначала на binary векторах, предсказать вероятные варианты на data_test и определить, насколько хорошо обучилась модель"
   ]
  },
  {
   "cell_type": "code",
   "execution_count": 54,
   "metadata": {},
   "outputs": [
    {
     "name": "stdout",
     "output_type": "stream",
     "text": [
      "Logstic Regression with Binary accuracy score: 0.9203980099502488\n"
     ]
    }
   ],
   "source": [
    "from sklearn.linear_model import LogisticRegression\n",
    "from sklearn.metrics import accuracy_score\n",
    "log_model_binary = LogisticRegression(solver = 'lbfgs', \n",
    "                                      multi_class='auto')\n",
    "log_model_binary.fit(X_binary_train, y_train)\n",
    "predictions = log_model_binary.predict(X_binary_test)\n",
    "print(\"Logstic Regression with Binary accuracy score:\", \n",
    "      accuracy_score(y_test, predictions))"
   ]
  },
  {
   "cell_type": "markdown",
   "metadata": {},
   "source": [
    "### Используя метод LogisticRegression, обучить на Frequency векторах, предсказать вероятные варианты на data_test и определить, насколько хорошо обучилась модель"
   ]
  },
  {
   "cell_type": "code",
   "execution_count": 55,
   "metadata": {},
   "outputs": [
    {
     "name": "stdout",
     "output_type": "stream",
     "text": [
      "Logstic Regression with Frequency accuracy score: 0.9191542288557214\n"
     ]
    }
   ],
   "source": [
    "log_model_freq = LogisticRegression(solver = 'lbfgs', \n",
    "                                    multi_class='auto')\n",
    "log_model_freq.fit(X_freq_train, y_train)\n",
    "predictions_freq = log_model_freq.predict(X_freq_test)\n",
    "print(\"Logstic Regression with Frequency accuracy score:\", \n",
    "      accuracy_score(y_test, predictions_freq))"
   ]
  },
  {
   "cell_type": "markdown",
   "metadata": {},
   "source": [
    "### Используя метод LogisticRegression, обучить на TfIdf векторах, предсказать вероятные варианты на data_test и определить, насколько хорошо обучилась модель"
   ]
  },
  {
   "cell_type": "code",
   "execution_count": 56,
   "metadata": {},
   "outputs": [
    {
     "name": "stdout",
     "output_type": "stream",
     "text": [
      "Logstic Regression with TfIdf accuracy score: 0.9291044776119403\n"
     ]
    }
   ],
   "source": [
    "log_model_tfidf = LogisticRegression(solver = 'lbfgs', \n",
    "                                     multi_class='auto')\n",
    "log_model_tfidf.fit(X_tfidf_train, y_train)\n",
    "predictions_tfidf = log_model_tfidf.predict(X_tfidf_test)\n",
    "print(\"Logstic Regression with TfIdf accuracy score:\", \n",
    "      accuracy_score(y_test, predictions_tfidf))"
   ]
  },
  {
   "cell_type": "markdown",
   "metadata": {},
   "source": [
    "##### Исходя из полученных мною данных о работе обученных моделей, с применением разных методов векторизации, а именно:\n",
    "        Binary: \"log_model_binary\" accuracy score: 0.9203980099502488\n",
    "        Frequency: \"log_model_freq\" accuracy score: 0.9191542288557214\n",
    "        Tf-Idf: \"log_model_tfidf\" accuracy score: 0.9291044776119403\n",
    "#### Лучше всего сработала модель \"log_model_tfidf\"(0.929).\n",
    "#### Хуже всего сработала модель \"log_model_freq\"(0.919)."
   ]
  },
  {
   "cell_type": "markdown",
   "metadata": {},
   "source": [
    "### Тестирование модели"
   ]
  },
  {
   "cell_type": "code",
   "execution_count": 65,
   "metadata": {},
   "outputs": [
    {
     "name": "stdout",
     "output_type": "stream",
     "text": [
      "Забросьте фрагмент текста: Биология - наука о жизни, о живых организмах. Она изучает различные формы жизни, их строение и разнообразие, а также законы природы.\n",
      "Введенный текст: Биология - наука о жизни, о живых организмах. Она изучает различные формы жизни, их строение и разнообразие, а также законы природы.\n"
     ]
    }
   ],
   "source": [
    "#test text fragment\n",
    "#string = \"Биология - наука о жизни, о живых организмах. Она изучает различные формы жизни, их строение и разнообразие, а также законы природы.\"\n",
    "string = input(\"Забросьте фрагмент текста: \") \n",
    "print(\"Введенный текст: \" + string)"
   ]
  },
  {
   "cell_type": "code",
   "execution_count": 66,
   "metadata": {},
   "outputs": [
    {
     "name": "stdout",
     "output_type": "stream",
     "text": [
      "Текст 'Биология - наука о жизни, о живых организмах. Она изучает различные формы жизни, их строение и разнообразие, а также законы природы.' относится к теме БИОЛОГИЯ!\n"
     ]
    }
   ],
   "source": [
    "print(f\"Текст '{string}' относится к теме {log_model_tfidf.predict(vectorizer_tfidf.transform([string]))[0]}!\")"
   ]
  },
  {
   "cell_type": "code",
   "execution_count": null,
   "metadata": {},
   "outputs": [],
   "source": []
  }
 ],
 "metadata": {
  "kernelspec": {
   "display_name": "Python 3",
   "language": "python",
   "name": "python3"
  },
  "language_info": {
   "codemirror_mode": {
    "name": "ipython",
    "version": 3
   },
   "file_extension": ".py",
   "mimetype": "text/x-python",
   "name": "python",
   "nbconvert_exporter": "python",
   "pygments_lexer": "ipython3",
   "version": "3.7.2"
  }
 },
 "nbformat": 4,
 "nbformat_minor": 2
}
